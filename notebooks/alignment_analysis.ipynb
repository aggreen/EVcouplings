{
 "cells": [
  {
   "cell_type": "markdown",
   "metadata": {},
   "source": [
    "# Alignment handling and analysis using the Alignment class\n",
    "\n",
    "#### Contents:\n",
    "1. Alignment input and output\n",
    "\n",
    "2. Selecting rows and columns\n",
    "\n",
    "3. Calculating statistics of alignments\n",
    "\n",
    "4. Learning exercises to test your skills\n",
    "\n",
    "Authors: Anna G. Green, Thomas A. Hopf\n",
    "\n"
   ]
  },
  {
   "cell_type": "code",
   "execution_count": 1,
   "metadata": {},
   "outputs": [],
   "source": [
    "import numpy as np\n",
    "from evcouplings.align import Alignment, map_matrix"
   ]
  },
  {
   "cell_type": "markdown",
   "metadata": {},
   "source": [
    "## 1. Alignment input and output"
   ]
  },
  {
   "cell_type": "code",
   "execution_count": 2,
   "metadata": {},
   "outputs": [],
   "source": [
    "## Read in a sequence alignment from a fasta file\n",
    "with open(\"example/example_aln.a2m\", \"r\") as infile:\n",
    "    aln = Alignment.from_file(infile, format=\"fasta\")"
   ]
  },
  {
   "cell_type": "code",
   "execution_count": 3,
   "metadata": {},
   "outputs": [
    {
     "name": "stdout",
     "output_type": "stream",
     "text": [
      "alignment is of length 423 and has 53 sequences\n"
     ]
    }
   ],
   "source": [
    "# Sequence length and number of sequences\n",
    "print(f\"alignment is of length {aln.L} and has {aln.N} sequences\")"
   ]
  },
  {
   "cell_type": "code",
   "execution_count": 4,
   "metadata": {},
   "outputs": [],
   "source": [
    "# Save the alignment to a file\n",
    "with open(\"example/_temporary_file.fasta\", \"w\") as outfile:\n",
    "    aln.write(fileobj=outfile, format=\"fasta\")"
   ]
  },
  {
   "cell_type": "raw",
   "metadata": {},
   "source": [
    "You can also define a sequence alignment using a dictionary of identifiers that point to sequences, as follows"
   ]
  },
  {
   "cell_type": "code",
   "execution_count": 5,
   "metadata": {},
   "outputs": [],
   "source": [
    "d = {\n",
    "    \"seq1\": \"HELLO\",\n",
    "    \"seq2\": \"WORLD\"\n",
    "    }\n",
    "aln2 = Alignment.from_dict(d)\n"
   ]
  },
  {
   "cell_type": "markdown",
   "metadata": {},
   "source": [
    "## 2. Selecting rows and columns"
   ]
  },
  {
   "cell_type": "code",
   "execution_count": 10,
   "metadata": {},
   "outputs": [
    {
     "data": {
      "text/plain": [
       "array(['G', 'Q', 'L', 'R', 'Y', 'S', 'V', 'P', 'E', 'E'], dtype='<U1')"
      ]
     },
     "execution_count": 10,
     "metadata": {},
     "output_type": "execute_result"
    }
   ],
   "source": [
    "# aln.matrix returns a numpy matrix of the sequences in the alignment (rows = sequences, columns=positions)\n",
    "# This matrix can be indexed into as any numpy matrix, with indexing beginning at 0\n",
    "\n",
    "#sequence 10, positions 1-10 \n",
    "aln.matrix[9,0:10]\n"
   ]
  },
  {
   "cell_type": "code",
   "execution_count": 14,
   "metadata": {},
   "outputs": [
    {
     "name": "stdout",
     "output_type": "stream",
     "text": [
      "all the ids: ['Q641K6_MOUSE' 'B9EJ92_MOUSE' 'Q91Y16_MOUSE' 'PCDA4_MOUSE' 'Q91Y15_MOUSE'\n",
      " 'B9EKB6_MOUSE' 'Q66JL9_MOUSE' 'Q91Y12_MOUSE' 'PCDA9_MOUSE' 'PCDAA_MOUSE'\n",
      " 'A0A0A6YY44_MOUSE' 'Q91Y18_MOUSE' 'Q91XZ6_MOUSE' 'B2RWV0_MOUSE'\n",
      " 'Q91XZ2_MOUSE' 'Q91VE5_MOUSE' 'Q91UZ8_MOUSE' 'A0PJT6_MOUSE'\n",
      " 'B2RUH4_MOUSE' 'Q8CDY9_MOUSE' 'E9Q5G2_MOUSE' 'Q91Y08_MOUSE'\n",
      " 'B2RUH7_MOUSE' 'Q91XZ7_MOUSE' 'Q91Y06_MOUSE' 'PCDBE_MOUSE' 'Q6NZD9_MOUSE'\n",
      " 'Q14BM8_MOUSE' 'Q91VD8_MOUSE' 'PCDBI_MOUSE' 'Q91Y01_MOUSE' 'Q91XZ9_MOUSE'\n",
      " 'Q91V48_MOUSE' 'Q91XZ8_MOUSE' 'A0A0A6YW27_MOUSE' 'Q91XY6_MOUSE'\n",
      " 'Q91XY5_MOUSE' 'PCDG4_MOUSE' 'Q91XY3_MOUSE' 'Q91XY2_MOUSE' 'Q6DD96_MOUSE'\n",
      " 'Q6PHX8_MOUSE' 'Q91XX9_MOUSE' 'Q91XY9_MOUSE' 'Q91XY8_MOUSE'\n",
      " 'Q91XY7_MOUSE' 'Q91XX8_MOUSE' 'Q91XX7_MOUSE' 'Q91XX6_MOUSE'\n",
      " 'Q91XX5_MOUSE' 'Q91XX4_MOUSE' 'Q91XX3_MOUSE' 'Q91XX2_MOUSE'] \n",
      "\n",
      "sequence PCDBI_MOUSE has index 29\n",
      "\n",
      "the sequence is ['E' 'L' 'G' 'R' 'Y' 'S' 'V' 'T' 'E' 'E' 'T' 'E' 'R' 'G' 'S' 'F' 'V' 'A'\n",
      " 'N' 'L' 'A' 'K' 'D' 'L' 'G' 'L' 'G' 'V' 'E' 'A' 'L' 'A' 'A' 'K' 'R' 'T'\n",
      " 'R' 'V' 'V' 'C' 'D' 'D' 'N' 'K' 'Q' 'H' 'L' 'F' 'L' 'D' 'S' 'H' 'T' 'G'\n",
      " 'D' 'L' 'L' 'T' 'N' 'E' 'K' 'L' 'D' 'R' 'E' 'K' 'L' 'C' 'G' 'P' 'T' 'E'\n",
      " 'P' 'C' 'M' 'L' 'Y' 'F' 'Q' 'I' 'L' 'M' 'D' 'N' 'P' 'F' 'Q' 'I' 'Y' 'R'\n",
      " 'A' 'E' 'L' 'R' 'I' 'L' 'D' 'I' 'N' 'D' 'H' 'S' 'P' 'I' 'F' 'Q' 'D' 'K'\n",
      " 'K' 'M' 'I' 'L' 'K' 'I' 'L' 'E' 'N' 'T' 'A' 'V' 'G' 'T' 'T' 'F' 'R' 'L'\n",
      " 'E' 'R' 'A' 'Q' 'D' 'S' 'D' 'G' 'G' 'R' 'N' 'G' 'I' 'Q' 'N' 'Y' 'T' 'I'\n",
      " 'S' 'P' 'N' 'T' 'F' 'F' 'H' 'I' 'T' 'V' 'H' 'N' 'S' 'D' 'E' 'G' 'M' 'I'\n",
      " 'Y' 'P' 'E' 'L' 'V' 'L' 'D' 'K' 'A' 'L' 'D' 'W' 'E' 'G' 'Q' 'P' 'E' 'F'\n",
      " 'S' 'L' 'T' 'L' 'T' 'A' 'L' 'D' 'G' 'G' 'S' 'P' 'P' 'R' 'S' 'G' 'T' 'A'\n",
      " 'T' 'I' 'H' 'I' 'L' 'V' 'L' 'D' 'I' 'N' 'D' 'N' 'A' 'P' 'Q' 'F' 'P' 'Q'\n",
      " 'E' 'L' 'Y' 'E' 'I' 'Q' 'A' 'P' 'E' 'N' 'S' 'P' 'I' 'G' 'L' 'V' 'V' 'I'\n",
      " 'K' 'V' 'T' 'G' 'E' 'D' 'V' 'D' 'S' 'G' 'V' 'N' 'A' 'E' 'I' 'S' 'Y' 'S'\n",
      " 'F' 'F' 'D' '.' 'A' 'S' 'E' 'D' 'I' 'R' 'A' 'T' 'F' 'Q' 'I' 'N' 'P' 'F'\n",
      " 'S' 'G' 'E' 'I' 'T' 'L' 'K' 'A' 'L' 'L' 'D' 'Y' 'E' 'F' 'I' 'K' 'S' 'Y'\n",
      " 'K' 'L' 'N' 'V' 'Q' 'A' 'V' 'D' 'G' 'G' 'G' 'L' '.' '.' 'S' 'A' 'R' 'C'\n",
      " 'T' 'V' 'L' 'V' 'R' 'V' 'L' 'D' 'V' 'N' 'D' 'N' 'A' 'P' 'E' 'L' 'I' 'M'\n",
      " 'S' 'S' 'L' 'V' 'N' 'E' 'V' 'V' 'E' 'N' 'S' 'P' '-' 'E' 'T' 'V' 'L' 'A'\n",
      " 'V' 'F' 'R' 'I' 'N' 'D' 'R' 'D' 'S' 'G' 'E' 'N' 'G' 'K' 'M' 'V' 'C' 'H'\n",
      " 'I' 'Q' 'E' 'N' 'L' 'P' 'F' 'L' 'L' 'K' 'P' 'S' 'V' 'D' 'N' 'F' 'Y' 'I'\n",
      " 'L' 'M' 'T' 'E' 'G' 'A' 'L' 'D' 'R' 'E' 'S' 'R' 'A' 'E' 'Y' 'N' 'I' 'T'\n",
      " 'I' 'T' 'V' 'S' 'D' 'L' 'G' 'T' 'P' 'R' 'L' 'T' 'T' 'Q' 'H' 'T' 'I' 'R'\n",
      " 'V' 'Q' 'V' 'S' 'D' 'I' 'N' 'D' 'N']\n"
     ]
    }
   ],
   "source": [
    "# The matrix can be indexed by looking up the index of an identifier of interest\n",
    "\n",
    "# view the sequence identifiers\n",
    "print(\"all the ids:\", aln.ids, \"\\n\")\n",
    "\n",
    "# Find the index of the sequence PCDBI_MOUSE\n",
    "index = aln.id_to_index[\"PCDBI_MOUSE\"]\n",
    "print(f\"sequence PCDBI_MOUSE has index {index}\\n\")\n",
    "\n",
    "# select the sequence of interest\n",
    "sequence = aln.matrix[index,:]\n",
    "print(\"the sequence is\", sequence)"
   ]
  },
  {
   "cell_type": "code",
   "execution_count": 7,
   "metadata": {},
   "outputs": [
    {
     "data": {
      "text/plain": [
       "array(['E', 'L', 'G', 'R', 'Y', 'S', 'V', 'T', 'E', 'E', 'T', 'E', 'R',\n",
       "       'G', 'S', 'F', 'V', 'A', 'N', 'L', 'A', 'K', 'D', 'L', 'G', 'L',\n",
       "       'G', 'V', 'E', 'A', 'L', 'A', 'A', 'K', 'R', 'T', 'R', 'V', 'V',\n",
       "       'C', 'D', 'D', 'N', 'K', 'Q', 'H', 'L', 'F', 'L', 'D', 'S', 'H',\n",
       "       'T', 'G', 'D', 'L', 'L', 'T', 'N', 'E', 'K', 'L', 'D', 'R', 'E',\n",
       "       'K', 'L', 'C', 'G', 'P', 'T', 'E', 'P', 'C', 'M', 'L', 'Y', 'F',\n",
       "       'Q', 'I', 'L', 'M', 'D', 'N', 'P', 'F', 'Q', 'I', 'Y', 'R', 'A',\n",
       "       'E', 'L', 'R', 'I', 'L', 'D', 'I', 'N', 'D', 'H', 'S', 'P', 'I',\n",
       "       'F', 'Q', 'D', 'K', 'K', 'M', 'I', 'L', 'K', 'I', 'L', 'E', 'N',\n",
       "       'T', 'A', 'V', 'G', 'T', 'T', 'F', 'R', 'L', 'E', 'R', 'A', 'Q',\n",
       "       'D', 'S', 'D', 'G', 'G', 'R', 'N', 'G', 'I', 'Q', 'N', 'Y', 'T',\n",
       "       'I', 'S', 'P', 'N', 'T', 'F', 'F', 'H', 'I', 'T', 'V', 'H', 'N',\n",
       "       'S', 'D', 'E', 'G', 'M', 'I', 'Y', 'P', 'E', 'L', 'V', 'L', 'D',\n",
       "       'K', 'A', 'L', 'D', 'W', 'E', 'G', 'Q', 'P', 'E', 'F', 'S', 'L',\n",
       "       'T', 'L', 'T', 'A', 'L', 'D', 'G', 'G', 'S', 'P', 'P', 'R', 'S',\n",
       "       'G', 'T', 'A', 'T', 'I', 'H', 'I', 'L', 'V', 'L', 'D', 'I', 'N',\n",
       "       'D', 'N', 'A', 'P', 'Q', 'F', 'P', 'Q', 'E', 'L', 'Y', 'E', 'I',\n",
       "       'Q', 'A', 'P', 'E', 'N', 'S', 'P', 'I', 'G', 'L', 'V', 'V', 'I',\n",
       "       'K', 'V', 'T', 'G', 'E', 'D', 'V', 'D', 'S', 'G', 'V', 'N', 'A',\n",
       "       'E', 'I', 'S', 'Y', 'S', 'F', 'F', 'D', '.', 'A', 'S', 'E', 'D',\n",
       "       'I', 'R', 'A', 'T', 'F', 'Q', 'I', 'N', 'P', 'F', 'S', 'G', 'E',\n",
       "       'I', 'T', 'L', 'K', 'A', 'L', 'L', 'D', 'Y', 'E', 'F', 'I', 'K',\n",
       "       'S', 'Y', 'K', 'L', 'N', 'V', 'Q', 'A', 'V', 'D', 'G', 'G', 'G',\n",
       "       'L', '.', '.', 'S', 'A', 'R', 'C', 'T', 'V', 'L', 'V', 'R', 'V',\n",
       "       'L', 'D', 'V', 'N', 'D', 'N', 'A', 'P', 'E', 'L', 'I', 'M', 'S',\n",
       "       'S', 'L', 'V', 'N', 'E', 'V', 'V', 'E', 'N', 'S', 'P', '-', 'E',\n",
       "       'T', 'V', 'L', 'A', 'V', 'F', 'R', 'I', 'N', 'D', 'R', 'D', 'S',\n",
       "       'G', 'E', 'N', 'G', 'K', 'M', 'V', 'C', 'H', 'I', 'Q', 'E', 'N',\n",
       "       'L', 'P', 'F', 'L', 'L', 'K', 'P', 'S', 'V', 'D', 'N', 'F', 'Y',\n",
       "       'I', 'L', 'M', 'T', 'E', 'G', 'A', 'L', 'D', 'R', 'E', 'S', 'R',\n",
       "       'A', 'E', 'Y', 'N', 'I', 'T', 'I', 'T', 'V', 'S', 'D', 'L', 'G',\n",
       "       'T', 'P', 'R', 'L', 'T', 'T', 'Q', 'H', 'T', 'I', 'R', 'V', 'Q',\n",
       "       'V', 'S', 'D', 'I', 'N', 'D', 'N'], dtype='<U1')"
      ]
     },
     "execution_count": 7,
     "metadata": {},
     "output_type": "execute_result"
    }
   ],
   "source": [
    "# aln.matrix can also be indexed with getitem-style access\n",
    "aln[\"PCDBI_MOUSE\"]"
   ]
  },
  {
   "cell_type": "code",
   "execution_count": 38,
   "metadata": {},
   "outputs": [
    {
     "name": "stdout",
     "output_type": "stream",
     "text": [
      "the new alignment has 3 sequences\n"
     ]
    }
   ],
   "source": [
    "# Create a new sequence alignment with just the sequences of interest\n",
    "ids_to_select = ['Q641K6_MOUSE','B9EJ92_MOUSE','Q91Y16_MOUSE']\n",
    "selection_index = [aln.id_to_index[x] for x in ids_to_select]\n",
    "aln_subsection = aln.select(sequences=selection_index)\n",
    "print(f\"the new alignment has {aln_subsection.N} sequences\")"
   ]
  },
  {
   "cell_type": "code",
   "execution_count": 42,
   "metadata": {},
   "outputs": [
    {
     "name": "stdout",
     "output_type": "stream",
     "text": [
      "the new alignment has 50 positions\n"
     ]
    }
   ],
   "source": [
    "# Say the first 50 positions contain a domain of interest. \n",
    "# You can also select only certain columns\n",
    "\n",
    "aln_subsection = aln.select(columns=range(0,50))\n",
    "print(f\"the new alignment has {aln_subsection.L} positions\")"
   ]
  },
  {
   "cell_type": "markdown",
   "metadata": {},
   "source": [
    "## 3. Calculating statistics of alignments"
   ]
  },
  {
   "cell_type": "code",
   "execution_count": 18,
   "metadata": {},
   "outputs": [
    {
     "name": "stdout",
     "output_type": "stream",
     "text": [
      "mapping indices:  defaultdict(<function map_from_alphabet.<locals>.<lambda> at 0x7fb870516ae8>, {'-': 0, 'A': 1, 'C': 2, 'D': 3, 'E': 4, 'F': 5, 'G': 6, 'H': 7, 'I': 8, 'K': 9, 'L': 10, 'M': 11, 'N': 12, 'P': 13, 'Q': 14, 'R': 15, 'S': 16, 'T': 17, 'V': 18, 'W': 19, 'Y': 20, 'd': 0, 's': 0, 'm': 0, 'a': 0, 'p': 0, 'l': 0, 'q': 0, '.': 0})\n"
     ]
    }
   ],
   "source": [
    "# The sequence alignment can be converted into a matrix of integers for faster handling\n",
    "aln.matrix_mapped = map_matrix(aln.matrix, aln.alphabet_map)\n",
    "print(\"mapping indices: \",aln.alphabet_map)"
   ]
  },
  {
   "cell_type": "code",
   "execution_count": 20,
   "metadata": {},
   "outputs": [
    {
     "name": "stdout",
     "output_type": "stream",
     "text": [
      "There are 21 amino acids in the alignment\n",
      "-, 0.0\n",
      "A, 0.74\n",
      "C, 0.0\n",
      "D, 0.0\n",
      "E, 0.0\n",
      "F, 0.0\n",
      "G, 0.02\n",
      "H, 0.0\n",
      "I, 0.02\n",
      "K, 0.0\n",
      "L, 0.02\n",
      "M, 0.0\n",
      "N, 0.0\n",
      "P, 0.0\n",
      "Q, 0.0\n",
      "R, 0.0\n",
      "S, 0.11\n",
      "T, 0.04\n",
      "V, 0.06\n",
      "W, 0.0\n",
      "Y, 0.0\n",
      "position 21 is 0.68 percent conserved\n"
     ]
    }
   ],
   "source": [
    "# Display the frequencies of each amino acid in position 21\n",
    "frequency_21 = aln.frequencies[20,:]\n",
    "print(f\"There are {frequency_21.size} amino acids in the alignment\")\n",
    "\n",
    "for idx, amino_acid in enumerate(aln.alphabet):\n",
    "    print(f\"{amino_acid}, {np.round(frequency_21[idx], 2)}\")\n",
    "\n",
    "#calculates conservation of each positions using the column entropy\n",
    "cons = aln.conservation()[20]\n",
    "print(f\"position 21 is {np.round(cons,2)} percent conserved\")"
   ]
  },
  {
   "cell_type": "code",
   "execution_count": 60,
   "metadata": {},
   "outputs": [
    {
     "data": {
      "text/plain": [
       "array([0.23877069, 0.23167849, 0.22931442, 0.22931442, 0.23167849,\n",
       "       0.22931442, 0.23404255, 0.20803783, 0.22222222, 0.22931442,\n",
       "       0.22931442, 0.22695035, 0.10165485, 0.09219858, 0.09456265,\n",
       "       0.09692671, 0.09929078, 0.09456265, 0.09929078, 0.09219858,\n",
       "       0.09456265, 0.10874704, 0.10874704, 0.08510638, 0.09929078,\n",
       "       0.09692671, 0.09692671, 0.09456265, 0.10165485, 0.08747045,\n",
       "       0.09456265, 0.10638298, 0.08983452, 0.09929078, 0.10874704,\n",
       "       0.11111111, 0.11347518, 0.09929078, 0.11111111, 0.11111111,\n",
       "       0.09929078, 0.11347518, 0.11583924, 0.11111111, 0.11583924,\n",
       "       0.11111111, 0.10874704, 0.09929078, 0.09692671, 0.09929078,\n",
       "       0.09456265, 0.09456265, 0.11111111])"
      ]
     },
     "execution_count": 60,
     "metadata": {},
     "output_type": "execute_result"
    }
   ],
   "source": [
    "# calculate the percent identity of every sequence in the alignment to the first sequence\n",
    "aln.identities_to(aln.matrix[0])\n"
   ]
  },
  {
   "cell_type": "markdown",
   "metadata": {},
   "source": [
    "## 4. Learning exercises and solutions"
   ]
  },
  {
   "cell_type": "raw",
   "metadata": {},
   "source": [
    "## Some learning exercises\n",
    "\n",
    "# Which sequence in the example alignment contains the most gaps?\n",
    "\n",
    "# Calculate the percent identity of all sequences to all other sequences and plot as a heatmap\n",
    "\n",
    "# Create a new alignment of 100 random sequences, where each position is drawn from the frequency distribution of the natural sequences in the example alignment at that site. \n",
    "\n",
    "----Scroll down for solutions----\n",
    "\n",
    "\n",
    "\n",
    "\n",
    "\n",
    "\n",
    "\n",
    "\n",
    "\n",
    "\n",
    "\n",
    "\n",
    "\n",
    "\n",
    "\n",
    "\n",
    "\n",
    "\n",
    "\n",
    "\n",
    "\n",
    "\n",
    "\n",
    "\n",
    "\n",
    "\n",
    "\n",
    "\n",
    "\n",
    "\n",
    "\n",
    "\n",
    "\n",
    "\n",
    "\n"
   ]
  },
  {
   "cell_type": "markdown",
   "metadata": {},
   "source": [
    "### Solutions"
   ]
  },
  {
   "cell_type": "code",
   "execution_count": 21,
   "metadata": {},
   "outputs": [
    {
     "name": "stdout",
     "output_type": "stream",
     "text": [
      "Q91XX5_MOUSE\n"
     ]
    }
   ],
   "source": [
    "# Which sequence contains the most gaps?\n",
    "\n",
    "#use the \"count\" method of the class\n",
    "maximum1 = aln.count(axis=\"seq\",char=\"-\").argmax()\n",
    "\n",
    "#or, use the numpy sum\n",
    "maximum2 = (aln.matrix==\"-\").sum(axis=1).argmax()\n",
    "\n",
    "assert maximum1==maximum2\n",
    "\n",
    "print(aln.ids[maximum1])"
   ]
  },
  {
   "cell_type": "code",
   "execution_count": 22,
   "metadata": {},
   "outputs": [
    {
     "data": {
      "text/plain": [
       "<matplotlib.axes._subplots.AxesSubplot at 0x7fb87061d240>"
      ]
     },
     "execution_count": 22,
     "metadata": {},
     "output_type": "execute_result"
    },
    {
     "data": {
      "image/png": "[encoded data removed]",
      "text/plain": [
       "<Figure size 792x720 with 2 Axes>"
      ]
     },
     "metadata": {
      "needs_background": "light"
     },
     "output_type": "display_data"
    }
   ],
   "source": [
    "# Calculate the percent identity of all sequences to all other sequences and plot as a heatmap\n",
    "\n",
    "import seaborn as sns\n",
    "import matplotlib.pyplot as plt\n",
    "\n",
    "identity_matrix = np.zeros((aln.N, aln.N))\n",
    "identity_matrix.fill(np.nan)\n",
    "\n",
    "#loop through each sequence\n",
    "for idx in range(identity_matrix.shape[0]):\n",
    "\n",
    "    #calculate all the percent identitites to that sequence\n",
    "    idents = aln.identities_to(aln.matrix[idx,:])\n",
    "    identity_matrix[idx] = idents\n",
    "\n",
    "#plot the heatmap\n",
    "fig = plt.figure(figsize=(11,10))\n",
    "ax = fig.gca\n",
    "sns.heatmap(identity_matrix,cmap=\"Blues\", xticklabels=aln.ids, yticklabels=aln.ids)"
   ]
  },
  {
   "cell_type": "code",
   "execution_count": 165,
   "metadata": {
    "scrolled": true
   },
   "outputs": [
    {
     "name": "stdout",
     "output_type": "stream",
     "text": [
      "highest difference in frequency 0.1450943396226415\n"
     ]
    }
   ],
   "source": [
    "# Create a new alignment of 100 random sequences, where each position is drawn from the frequency distribution of the natural sequences at that site.  \n",
    "from collections import defaultdict\n",
    "\n",
    "#Slow, loopy way\n",
    "\n",
    "aln_dict = defaultdict(str)\n",
    "\n",
    "for i in range(0,100):\n",
    "    #name for fake sequence\n",
    "    seq_name = \"rand_\"+str(i)\n",
    "    \n",
    "    sequence = np.zeros((1,aln.L),dtype=str)\n",
    "    # for each position\n",
    "    for col_index in range(aln.L):\n",
    "        \n",
    "        # choose a letter \n",
    "        letter = np.random.choice(\n",
    "            list(aln.alphabet),\n",
    "            1, \n",
    "            replace=False,\n",
    "            p = aln.frequencies[col_index,:]\n",
    "        )[0]\n",
    "        #save to new sequence\n",
    "        sequence[0,col_index] = letter\n",
    "        \n",
    "    # save sequence to alignment dictionary\n",
    "    aln_dict[seq_name] = \"\".join(list(sequence.reshape(-1)))\n",
    "\n",
    "rand_aln = Alignment.from_dict(aln_dict)\n",
    "\n",
    "# verify that the two alignments have similar residue frequencies\n",
    "\n",
    "print(\"highest difference in frequency\", abs(rand_aln.frequencies - aln.frequencies).max())\n",
    "    "
   ]
  },
  {
   "cell_type": "code",
   "execution_count": 169,
   "metadata": {},
   "outputs": [
    {
     "name": "stdout",
     "output_type": "stream",
     "text": [
      "highest difference in frequency 0.01198113207547169\n"
     ]
    }
   ],
   "source": [
    "# faster way!\n",
    "n_seqs = 10000\n",
    "sequence_matrix = np.zeros((n_seqs,aln.L),dtype=str)\n",
    "\n",
    "#loop through columns\n",
    "for i in range(aln.L):\n",
    "    \n",
    "    # make n_seqs random choices\n",
    "    letters = np.random.choice(\n",
    "            list(aln.alphabet),\n",
    "            n_seqs, \n",
    "            replace=True,\n",
    "            p = aln.frequencies[i,:]\n",
    "        )\n",
    "\n",
    "    #save the new columns\n",
    "    sequence_matrix[:,i] = letters\n",
    "    \n",
    "aln_dict = {f\"rand_{i}\":\"\".join(list(x)) for i,x in enumerate(sequence_matrix)}\n",
    "rand_aln = Alignment.from_dict(aln_dict)\n",
    "\n",
    "#verify similar frequencies\n",
    "print(\"highest difference in frequency\", abs(rand_aln.frequencies - aln.frequencies).max())"
   ]
  },
  {
   "cell_type": "code",
   "execution_count": null,
   "metadata": {},
   "outputs": [],
   "source": []
  }
 ],
 "metadata": {
  "kernelspec": {
   "display_name": "Python 3",
   "language": "python",
   "name": "python3"
  },
  "language_info": {
   "codemirror_mode": {
    "name": "ipython",
    "version": 3
   },
   "file_extension": ".py",
   "mimetype": "text/x-python",
   "name": "python",
   "nbconvert_exporter": "python",
   "pygments_lexer": "ipython3",
   "version": "3.7.3"
  }
 },
 "nbformat": 4,
 "nbformat_minor": 2
}
